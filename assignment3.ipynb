{
  "nbformat": 4,
  "nbformat_minor": 0,
  "metadata": {
    "colab": {
      "provenance": [],
      "authorship_tag": "ABX9TyPs59XmY34zcFsZnzqtvGLy",
      "include_colab_link": true
    },
    "kernelspec": {
      "name": "python3",
      "display_name": "Python 3"
    },
    "language_info": {
      "name": "python"
    }
  },
  "cells": [
    {
      "cell_type": "markdown",
      "metadata": {
        "id": "view-in-github",
        "colab_type": "text"
      },
      "source": [
        "<a href=\"https://colab.research.google.com/github/Nageshwari1607/Generative--AI/blob/main/assignment3.ipynb\" target=\"_parent\"><img src=\"https://colab.research.google.com/assets/colab-badge.svg\" alt=\"Open In Colab\"/></a>"
      ]
    },
    {
      "cell_type": "markdown",
      "source": [
        "2303A52063\n",
        "v.nageshwari"
      ],
      "metadata": {
        "id": "sH4nzeThQO8m"
      }
    },
    {
      "cell_type": "code",
      "execution_count": null,
      "metadata": {
        "colab": {
          "base_uri": "https://localhost:8080/"
        },
        "id": "b7TmI8gtPnVq",
        "outputId": "6a167fa9-f211-45c4-ad9b-64cff78c6168"
      },
      "outputs": [
        {
          "output_type": "stream",
          "name": "stdout",
          "text": [
            "The value of x at which f(x) is minimized: -0.29999016244485643\n"
          ]
        }
      ],
      "source": [
        "def gradient_descent_f(x_start, learning_rate, tolerance):\n",
        "    x = x_start\n",
        "    while True:\n",
        "        gradient = 10 * x + 3  # The derivative of f(x) = 5x^2 + 3x + 10\n",
        "        new_x = x - learning_rate * gradient\n",
        "        if abs(new_x - x) < tolerance:\n",
        "            break\n",
        "        x = new_x\n",
        "    return x\n",
        "\n",
        "# Example usage\n",
        "x_min = gradient_descent_f(x_start=0, learning_rate=0.01, tolerance=1e-6)\n",
        "print(f\"The value of x at which f(x) is minimized: {x_min}\")\n"
      ]
    },
    {
      "cell_type": "code",
      "source": [
        "def gradient_descent_g(x_start, y_start, learning_rate, tolerance):\n",
        "    x, y = x_start, y_start\n",
        "\n",
        "    # Define the gradients of g(x, y) = (1/2)(x^2 + y^2)\n",
        "    def gradient_x(x):\n",
        "        return x  # ∂g/∂x = x\n",
        "\n",
        "    def gradient_y(y):\n",
        "        return y  # ∂g/∂y = y\n",
        "\n",
        "    while True:\n",
        "        # Compute gradients\n",
        "        grad_x = gradient_x(x)\n",
        "        grad_y = gradient_y(y)\n",
        "\n",
        "        # Update x and y\n",
        "        new_x = x - learning_rate * grad_x\n",
        "        new_y = y - learning_rate * grad_y\n",
        "\n",
        "        # Check for convergence\n",
        "        if abs(new_x - x) < tolerance and abs(new_y - y) < tolerance:\n",
        "            break\n",
        "\n",
        "        x, y = new_x, new_y\n",
        "\n",
        "    return x, y\n",
        "\n",
        "# Example usage\n",
        "x_min, y_min = gradient_descent_g(x_start=10, y_start=10, learning_rate=0.1, tolerance=1e-6)\n",
        "print(f\"The value of x, y at which g(x, y) is minimized: x = {x_min}, y = {y_min}\")"
      ],
      "metadata": {
        "colab": {
          "base_uri": "https://localhost:8080/"
        },
        "id": "PubH-qenPxqX",
        "outputId": "416e9e3f-bc9e-485b-bd46-3e343e762df2"
      },
      "execution_count": null,
      "outputs": [
        {
          "output_type": "stream",
          "name": "stdout",
          "text": [
            "The value of x, y at which g(x, y) is minimized: x = 9.12034456046445e-06, y = 9.12034456046445e-06\n"
          ]
        }
      ]
    },
    {
      "cell_type": "code",
      "source": [
        "def sigmoid(x):\n",
        "    return 1 / (1 + (2.71828 ** -x))\n",
        "\n",
        "def gradient_descent_sigmoid(x_start, learning_rate, tolerance):\n",
        "    x = x_start\n",
        "    while True:\n",
        "        z = sigmoid(x)\n",
        "        gradient = z * (1 - z)\n",
        "        new_x = x - learning_rate * gradient\n",
        "        if abs(new_x - x) < tolerance:\n",
        "            break\n",
        "        x = new_x\n",
        "    return x\n",
        "\n",
        "# Example usage\n",
        "x_min = gradient_descent_sigmoid(x_start=0, learning_rate=0.01, tolerance=1e-6)\n",
        "print(f\"The value of x at which the sigmoid function is minimized: {x_min}\")"
      ],
      "metadata": {
        "colab": {
          "base_uri": "https://localhost:8080/"
        },
        "id": "PfmRTMm4P6Xv",
        "outputId": "c3a6535e-83f4-45c8-801d-a9549278f6b7"
      },
      "execution_count": null,
      "outputs": [
        {
          "output_type": "stream",
          "name": "stdout",
          "text": [
            "The value of x at which the sigmoid function is minimized: -9.210146767539557\n"
          ]
        }
      ]
    },
    {
      "cell_type": "code",
      "source": [
        "def sigmoid(x):\n",
        "    return 1 / (1 + (2.71828 ** -x))\n",
        "\n",
        "def gradient_descent_sigmoid(x_start, learning_rate, tolerance):\n",
        "    x = x_start\n",
        "    while True:\n",
        "        z = sigmoid(x)\n",
        "        gradient = z * (1 - z)\n",
        "        new_x = x - learning_rate * gradient\n",
        "        if abs(new_x - x) < tolerance:\n",
        "            break\n",
        "        x = new_x\n",
        "    return x\n",
        "\n",
        "# Example usage\n",
        "x_min = gradient_descent_sigmoid(x_start=0, learning_rate=0.01, tolerance=1e-6)\n",
        "print(f\"The value of x at which the sigmoid function is minimized: {x_min}\")"
      ],
      "metadata": {
        "colab": {
          "base_uri": "https://localhost:8080/"
        },
        "id": "vuXremxlQDpc",
        "outputId": "6f932a0c-784d-4dee-a02e-1035a8969dd8"
      },
      "execution_count": null,
      "outputs": [
        {
          "output_type": "stream",
          "name": "stdout",
          "text": [
            "The value of x at which the sigmoid function is minimized: -9.210146767539557\n"
          ]
        }
      ]
    }
  ]
}